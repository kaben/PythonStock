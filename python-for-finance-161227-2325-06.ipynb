{
 "cells": [
  {
   "cell_type": "markdown",
   "metadata": {},
   "source": [
    "###### 161227-2330-06@kaben: notes below follow along with *[Python for Finance: Analyze Big Financial Data](https://www.amazon.com/Python-Finance-Analyze-Financial-Data/dp/1491945281)*.\n",
    "###### 151228-2230-06@kaben: potential resources and further reading:\n",
    "* Chapter 1:\n",
    " * Fletcher and Gardener (2009), *Financial Modeling in Python*\n",
    " * Hilpisch (2015): *Derivatives Analytics with Python*, http://derivatives-analytics-with-python.com\n",
    " * Crosman (2013): \"Top 8 Ways Banks Will Spend Their 2014 IT Budgets\", *Bank Technology News*\n",
    " * Deutsche Börse Group (2008), \"The Global Derivatives Market — An Introduction\", white paper\n",
    " Ding (2010), \"Optimizing the OTC Pricing and Valuation Infrastructure\", *Celent study*\n",
    " * Lewis (2014), *Flash Boys*\n",
    " * Patterson (2010), *The Quants*\n",
    " * Master of Financial Engineering Program at Baruch College of the City University of New York, http://mfe.baruch.cuny.edu\n",
    "* Chapter 2:\n",
    " * McKinney (2012), *Python for Data Analysis*\n",
    " * Python Quant Platform, The Python Quants GmbH, http://quant-platform.com\n",
    "* Chapter 3:\n",
    " * Black, Fischer and Myron Scholes (1973), “The Pricing of Options and Corporate Liabilities”, *Journal of Political Economy,* Vol. 81, No. 3, pp. 638-659\n",
    " * Hilpisch, Yves (2013), “Efficient Data and Financial Analytics with Python”, *Software Developer’s Journal*, No. 13, pp. 56-65.\n",
    " * Merton, Robert (1973), “Theory of Rational Option Pricing”, *Bell*\n",
    " * Eurex (2013), \"VSTOXX Advanced Services\""
   ]
  },
  {
   "cell_type": "markdown",
   "metadata": {},
   "source": [
    "## Notes during Chapter 1: Why Python for Finance?"
   ]
  },
  {
   "cell_type": "markdown",
   "metadata": {},
   "source": [
    "*The Zen of Python:*"
   ]
  },
  {
   "cell_type": "code",
   "execution_count": 1,
   "metadata": {
    "collapsed": false
   },
   "outputs": [
    {
     "name": "stdout",
     "output_type": "stream",
     "text": [
      "The Zen of Python, by Tim Peters\n",
      "\n",
      "Beautiful is better than ugly.\n",
      "Explicit is better than implicit.\n",
      "Simple is better than complex.\n",
      "Complex is better than complicated.\n",
      "Flat is better than nested.\n",
      "Sparse is better than dense.\n",
      "Readability counts.\n",
      "Special cases aren't special enough to break the rules.\n",
      "Although practicality beats purity.\n",
      "Errors should never pass silently.\n",
      "Unless explicitly silenced.\n",
      "In the face of ambiguity, refuse the temptation to guess.\n",
      "There should be one-- and preferably only one --obvious way to do it.\n",
      "Although that way may not be obvious at first unless you're Dutch.\n",
      "Now is better than never.\n",
      "Although never is often better than *right* now.\n",
      "If the implementation is hard to explain, it's a bad idea.\n",
      "If the implementation is easy to explain, it may be a good idea.\n",
      "Namespaces are one honking great idea -- let's do more of those!\n"
     ]
    }
   ],
   "source": [
    "import this"
   ]
  },
  {
   "cell_type": "code",
   "execution_count": 2,
   "metadata": {
    "collapsed": true
   },
   "outputs": [],
   "source": [
    "import matplotlib\n",
    "%matplotlib inline\n",
    "matplotlib.style.use('ggplot')"
   ]
  },
  {
   "cell_type": "code",
   "execution_count": 3,
   "metadata": {
    "collapsed": false
   },
   "outputs": [],
   "source": [
    "import numpy as np\n",
    "import pandas as pd\n",
    "from pandas_datareader import data, wb"
   ]
  },
  {
   "cell_type": "code",
   "execution_count": 4,
   "metadata": {
    "collapsed": false
   },
   "outputs": [
    {
     "name": "stdout",
     "output_type": "stream",
     "text": [
      "The slowest run took 5.55 times longer than the fastest. This could mean that an intermediate result is being cached.\n",
      "1 loop, best of 3: 446 ms per loop\n"
     ]
    }
   ],
   "source": [
    "%timeit data.DataReader('GOOG', data_source='google', start='3/14/2009', end='4/14/2014')"
   ]
  },
  {
   "cell_type": "markdown",
   "metadata": {},
   "source": [
    "###### 161228-2003-06@kaben: below is alternate syntax using datetime.datetime(...).\n",
    "###### 161228-2012-06@kaben: Idiom demonstrated: dowloading daily price data."
   ]
  },
  {
   "cell_type": "code",
   "execution_count": 5,
   "metadata": {
    "collapsed": false
   },
   "outputs": [
    {
     "data": {
      "text/html": [
       "<div>\n",
       "<table border=\"1\" class=\"dataframe\">\n",
       "  <thead>\n",
       "    <tr style=\"text-align: right;\">\n",
       "      <th></th>\n",
       "      <th>Open</th>\n",
       "      <th>High</th>\n",
       "      <th>Low</th>\n",
       "      <th>Close</th>\n",
       "      <th>Volume</th>\n",
       "    </tr>\n",
       "    <tr>\n",
       "      <th>Date</th>\n",
       "      <th></th>\n",
       "      <th></th>\n",
       "      <th></th>\n",
       "      <th></th>\n",
       "      <th></th>\n",
       "    </tr>\n",
       "  </thead>\n",
       "  <tbody>\n",
       "    <tr>\n",
       "      <th>2016-12-20</th>\n",
       "      <td>796.76</td>\n",
       "      <td>798.65</td>\n",
       "      <td>793.27</td>\n",
       "      <td>796.42</td>\n",
       "      <td>951014.0</td>\n",
       "    </tr>\n",
       "    <tr>\n",
       "      <th>2016-12-21</th>\n",
       "      <td>795.84</td>\n",
       "      <td>796.68</td>\n",
       "      <td>787.10</td>\n",
       "      <td>794.56</td>\n",
       "      <td>1211346.0</td>\n",
       "    </tr>\n",
       "    <tr>\n",
       "      <th>2016-12-22</th>\n",
       "      <td>792.36</td>\n",
       "      <td>793.32</td>\n",
       "      <td>788.58</td>\n",
       "      <td>791.26</td>\n",
       "      <td>972169.0</td>\n",
       "    </tr>\n",
       "    <tr>\n",
       "      <th>2016-12-23</th>\n",
       "      <td>790.90</td>\n",
       "      <td>792.74</td>\n",
       "      <td>787.28</td>\n",
       "      <td>789.91</td>\n",
       "      <td>623944.0</td>\n",
       "    </tr>\n",
       "    <tr>\n",
       "      <th>2016-12-27</th>\n",
       "      <td>790.68</td>\n",
       "      <td>797.86</td>\n",
       "      <td>787.66</td>\n",
       "      <td>791.55</td>\n",
       "      <td>789321.0</td>\n",
       "    </tr>\n",
       "  </tbody>\n",
       "</table>\n",
       "</div>"
      ],
      "text/plain": [
       "              Open    High     Low   Close     Volume\n",
       "Date                                                 \n",
       "2016-12-20  796.76  798.65  793.27  796.42   951014.0\n",
       "2016-12-21  795.84  796.68  787.10  794.56  1211346.0\n",
       "2016-12-22  792.36  793.32  788.58  791.26   972169.0\n",
       "2016-12-23  790.90  792.74  787.28  789.91   623944.0\n",
       "2016-12-27  790.68  797.86  787.66  791.55   789321.0"
      ]
     },
     "execution_count": 5,
     "metadata": {},
     "output_type": "execute_result"
    }
   ],
   "source": [
    "import datetime\n",
    "goog = data.DataReader('GOOG', data_source='google', start=datetime.datetime(2009,3,14), end=datetime.datetime(2016,12,28))\n",
    "goog.tail()"
   ]
  },
  {
   "cell_type": "markdown",
   "metadata": {},
   "source": [
    "###### 161228-1956-06@kaben: Pandas warns that `rolling_std`  is deprecated. Below are both the deprecated and current idioms.\n",
    "###### 161228-2011-06@kaben: Idioms demonstrated:\n",
    "* Computing log of return.\n",
    "* Computing volatility."
   ]
  },
  {
   "cell_type": "code",
   "execution_count": 6,
   "metadata": {
    "collapsed": false
   },
   "outputs": [
    {
     "name": "stdout",
     "output_type": "stream",
     "text": [
      "The slowest run took 88.65 times longer than the fastest. This could mean that an intermediate result is being cached.\n",
      "1000 loops, best of 3: 409 µs per loop\n"
     ]
    }
   ],
   "source": [
    "%timeit goog['Log_Ret'] = np.log(goog['Close']/goog['Close'].shift(1))"
   ]
  },
  {
   "cell_type": "code",
   "execution_count": 7,
   "metadata": {
    "collapsed": false
   },
   "outputs": [
    {
     "name": "stderr",
     "output_type": "stream",
     "text": [
      "/Users/kaben/anaconda/lib/python3.5/site-packages/ipykernel/__main__.py:257: FutureWarning: pd.rolling_std is deprecated for Series and will be removed in a future version, replace with \n",
      "\tSeries.rolling(window=252,center=False).std()\n"
     ]
    },
    {
     "name": "stdout",
     "output_type": "stream",
     "text": [
      "The slowest run took 4.58 times longer than the fastest. This could mean that an intermediate result is being cached.\n",
      "1000 loops, best of 3: 550 µs per loop\n"
     ]
    }
   ],
   "source": [
    "%timeit goog['Volatility'] = pd.rolling_std(goog['Log_Ret'], window=252)*np.sqrt(252)"
   ]
  },
  {
   "cell_type": "code",
   "execution_count": 8,
   "metadata": {
    "collapsed": false
   },
   "outputs": [
    {
     "name": "stdout",
     "output_type": "stream",
     "text": [
      "1000 loops, best of 3: 525 µs per loop\n"
     ]
    }
   ],
   "source": [
    "%timeit goog['Volatility'] = goog['Log_Ret'].rolling(window=252).std()*np.sqrt(252)"
   ]
  },
  {
   "cell_type": "code",
   "execution_count": 9,
   "metadata": {
    "collapsed": false
   },
   "outputs": [
    {
     "data": {
      "text/plain": [
       "array([<matplotlib.axes._subplots.AxesSubplot object at 0x112e75908>,\n",
       "       <matplotlib.axes._subplots.AxesSubplot object at 0x112e3a5f8>], dtype=object)"
      ]
     },
     "execution_count": 9,
     "metadata": {},
     "output_type": "execute_result"
    },
    {
     "data": {
      "image/png": "[encoded data removed]",
      "text/plain": [
       "<matplotlib.figure.Figure at 0x11023cf28>"
      ]
     },
     "metadata": {},
     "output_type": "display_data"
    }
   ],
   "source": [
    "goog[['Close', 'Volatility']].plot(subplots=True, color='blue', figsize=(8,6))"
   ]
  },
  {
   "cell_type": "markdown",
   "metadata": {},
   "source": [
    "## Notes during Chapter 2: Infrastructure and Tools"
   ]
  },
  {
   "cell_type": "markdown",
   "metadata": {},
   "source": [
    "###### 161228-2109-06@kaben: Below are some example Anaconda commands."
   ]
  },
  {
   "cell_type": "code",
   "execution_count": 11,
   "metadata": {
    "collapsed": false
   },
   "outputs": [
    {
     "name": "stdout",
     "output_type": "stream",
     "text": [
      "Current conda install:\r\n",
      "\r\n",
      "               platform : osx-64\r\n",
      "          conda version : 4.2.13\r\n",
      "       conda is private : False\r\n",
      "      conda-env version : 4.2.13\r\n",
      "    conda-build version : 2.0.12\r\n",
      "         python version : 3.5.2.final.0\r\n",
      "       requests version : 2.12.4\r\n",
      "       root environment : /Users/kaben/anaconda  (writable)\r\n",
      "    default environment : /Users/kaben/anaconda\r\n",
      "       envs directories : /Users/kaben/anaconda/envs\r\n",
      "          package cache : /Users/kaben/anaconda/pkgs\r\n",
      "           channel URLs : https://repo.continuum.io/pkgs/free/osx-64\r\n",
      "                          https://repo.continuum.io/pkgs/free/noarch\r\n",
      "                          https://repo.continuum.io/pkgs/pro/osx-64\r\n",
      "                          https://repo.continuum.io/pkgs/pro/noarch\r\n",
      "            config file : None\r\n",
      "           offline mode : False\r\n",
      "\r\n"
     ]
    }
   ],
   "source": [
    "!conda info"
   ]
  },
  {
   "cell_type": "code",
   "execution_count": 12,
   "metadata": {
    "collapsed": false
   },
   "outputs": [
    {
     "name": "stdout",
     "output_type": "stream",
     "text": [
      "Fetching package metadata .......\n",
      "pytables                     2.4.0                np16py26_0  defaults        \n",
      "                             2.4.0                np16py27_0  defaults        \n",
      "                             2.4.0                np17py26_0  defaults        \n",
      "                             2.4.0                np17py27_0  defaults        \n",
      "                             3.0.0                np16py26_0  defaults        \n",
      "                             3.0.0                np16py27_0  defaults        \n",
      "                             3.0.0                np17py26_0  defaults        \n",
      "                             3.0.0                np17py27_0  defaults        \n",
      "                             3.0.0                np16py26_1  defaults        \n",
      "                             3.0.0                np16py27_1  defaults        \n",
      "                             3.0.0                np17py26_1  defaults        \n",
      "                             3.0.0                np17py27_1  defaults        \n",
      "                             3.0.0                np17py33_1  defaults        \n",
      "                             3.1.0                np18py26_0  defaults        \n",
      "                             3.1.0                np18py27_0  defaults        \n",
      "                             3.1.0                np18py33_0  defaults        \n",
      "                             3.1.1                np18py26_0  defaults        \n",
      "                             3.1.1                np18py27_0  defaults        \n",
      "                             3.1.1                np18py33_0  defaults        \n",
      "                             3.1.1                np18py34_0  defaults        \n",
      "                             3.1.1                np19py26_0  defaults        \n",
      "                             3.1.1                np19py27_0  defaults        \n",
      "                             3.1.1                np19py33_0  defaults        \n",
      "                             3.1.1                np19py34_0  defaults        \n",
      "                             3.1.1                np19py26_2  defaults        \n",
      "                             3.1.1                np19py27_2  defaults        \n",
      "                             3.1.1                np19py33_2  defaults        \n",
      "                             3.1.1                np19py34_2  defaults        \n",
      "                             3.2.0                np19py26_0  defaults        \n",
      "                             3.2.0                np19py27_0  defaults        \n",
      "                             3.2.0                np19py33_0  defaults        \n",
      "                             3.2.0                np19py34_0  defaults        \n",
      "                             3.2.1                np19py27_0  defaults        \n",
      "                             3.2.1                np19py34_0  defaults        \n",
      "                             3.2.1.1              np19py27_0  defaults        \n",
      "                             3.2.1.1              np19py34_0  defaults        \n",
      "                             3.2.1.1              np19py35_0  defaults        \n",
      "                             3.2.2               np110py27_0  defaults        \n",
      "                             3.2.2               np110py34_0  defaults        \n",
      "                             3.2.2               np110py35_0  defaults        \n",
      "                             3.2.2                np19py27_0  defaults        \n",
      "                             3.2.2                np19py34_0  defaults        \n",
      "                             3.2.2                np19py35_0  defaults        \n",
      "                             3.2.2               np110py27_1  defaults        \n",
      "                             3.2.2               np110py34_1  defaults        \n",
      "                             3.2.2               np110py35_1  defaults        \n",
      "                             3.2.2               np110py27_3  defaults        \n",
      "                             3.2.2               np110py34_3  defaults        \n",
      "                             3.2.2               np110py35_3  defaults        \n",
      "                             3.2.2               np111py27_3  defaults        \n",
      "                             3.2.2               np111py34_3  defaults        \n",
      "                             3.2.2               np111py35_3  defaults        \n",
      "                             3.2.2               np111py27_4  defaults        \n",
      "                             3.2.2               np111py34_4  defaults        \n",
      "                             3.2.2               np111py35_4  defaults        \n",
      "                             3.2.3.1             np111py27_0  defaults        \n",
      "                             3.2.3.1             np111py34_0  defaults        \n",
      "                          .  3.2.3.1             np111py35_0  defaults        \n",
      "                             3.3.0               np111py27_0  defaults        \n",
      "                             3.3.0               np111py34_0  defaults        \n",
      "                          *  3.3.0               np111py35_0  defaults        \n",
      "                             3.3.0               np111py36_0  defaults        \n"
     ]
    }
   ],
   "source": [
    "!conda search pytables"
   ]
  },
  {
   "cell_type": "code",
   "execution_count": 13,
   "metadata": {
    "collapsed": false
   },
   "outputs": [
    {
     "name": "stdout",
     "output_type": "stream",
     "text": [
      "# packages in environment at /Users/kaben/anaconda:\n",
      "#\n",
      "pytables                  3.3.0               np111py35_0  \n",
      "pytest                    3.0.5                    py35_0  \n",
      "python                    3.5.2                         0  \n",
      "python-dateutil           2.6.0                    py35_0  \n",
      "python.app                1.2                      py35_4  \n",
      "pytz                      2016.10                  py35_0  \n"
     ]
    }
   ],
   "source": [
    "!conda list ^pyt"
   ]
  },
  {
   "cell_type": "code",
   "execution_count": 14,
   "metadata": {
    "collapsed": false
   },
   "outputs": [
    {
     "name": "stdout",
     "output_type": "stream",
     "text": [
      "# packages in environment at /Users/kaben/anaconda:\n",
      "#\n",
      "pytables                  3.3.0               np111py35_0  \n"
     ]
    }
   ],
   "source": [
    "!conda list \"^p.*les$\""
   ]
  },
  {
   "cell_type": "markdown",
   "metadata": {},
   "source": [
    "## Notes during Chapter 3: Introductory Examples\n",
    "###### 161228-2222-06@kaben: some terms to learn:\n",
    "* Implied volatilities\n",
    "  * **Option strike:**\n",
    "      * From Wikipedia (https://en.wikipedia.org/wiki/Strike_price):\n",
    "        * **Underlying:** the asset (a.k.a \"instrument\" underlying the \"derivate\" contract (where the derivate contract *derives* its value from the performance of the underlying asset).\n",
    "        * **Spot price:** the current market price of the underlying.\n",
    "        * **Call option:** right but not obligation to buy given quantity of underyling security at strike price on a given date.\n",
    "          * Has value at expiration when spot price $S$ is above strike price $K$. Specifically, value is given by $\\max[(S-K), 0]$, also written as $(S-K)^+$.\n",
    "          * For an underyling security with spot price of \\$150, a \\$100 call option is \"worth\" \\$50. At spot price $S<=\\$100$, call option is worthless.\n",
    "        * **Put option:** right but not obligation to sell.\n",
    "          * Has value at expiration when spot price $S$ is *below* strike price $K$, given by $(K-S)^+$.\n",
    "          * At spot price of \\$50, a \\$100 put option is \"worth\" \\$50. At spot price $S>=\\$100$, put option is worthless.\n",
    "        * **Maturity:** date on which a derivative instrument expires or becomes due for payment or settlement.\n",
    "\n",
    "          * Upon maturity if the buyer of the call or put option contract chooses to exercise their right to buy or sell, respectively, the underyling, then the seller of the contract is obligated to sell or buy, respectively, the underyling at the agreed-upon strike price.\n",
    "  * \"...pricing European call options on and underlying without dividends...\"\n",
    "* Value-at-risk\n",
    "* Credit value\n"
   ]
  },
  {
   "cell_type": "code",
   "execution_count": null,
   "metadata": {
    "collapsed": true
   },
   "outputs": [],
   "source": []
  }
 ],
 "metadata": {
  "anaconda-cloud": {},
  "kernelspec": {
   "display_name": "Python [conda root]",
   "language": "python",
   "name": "conda-root-py"
  },
  "language_info": {
   "codemirror_mode": {
    "name": "ipython",
    "version": 3
   },
   "file_extension": ".py",
   "mimetype": "text/x-python",
   "name": "python",
   "nbconvert_exporter": "python",
   "pygments_lexer": "ipython3",
   "version": "3.5.2"
  }
 },
 "nbformat": 4,
 "nbformat_minor": 1
}
